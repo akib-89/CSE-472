{
 "cells": [
  {
   "cell_type": "markdown",
   "metadata": {},
   "source": [
    "# Working on the Datasets\n",
    "\n",
    "We will use the pandas library to read the datasets. We will use the `read_csv` method to read the csv files in python and assign it to a dataframe object.\n",
    "\n",
    "### Required Libraries\n",
    "\n",
    "- pandas\n",
    "- matplotlib\n",
    "- numpy\n",
    "- scikit-learn\n",
    "\n",
    "\n",
    "To install the libraries, you can use `pip` or `conda` as follows:\n",
    "\n",
    "```bash\n",
    "pip install pandas matplotlib scikit-learn numpy\n",
    "```\n",
    "\n",
    "```bash\n",
    "conda install pandas matplotlib scikit-learn numpy\n",
    "```\n"
   ]
  },
  {
   "cell_type": "code",
   "execution_count": 76,
   "metadata": {},
   "outputs": [],
   "source": [
    "import pandas as pd\n",
    "import matplotlib.pyplot as plt\n",
    "import numpy as np\n",
    "from sklearn.impute import SimpleImputer\n",
    "from sklearn.preprocessing import LabelEncoder, OneHotEncoder, StandardScaler"
   ]
  },
  {
   "cell_type": "markdown",
   "metadata": {},
   "source": [
    "### About the dataset\n",
    "\n",
    "This dataset can be found on the following [link](https://www.kaggle.com/datasets/blastchar/telco-customer-churn).\n",
    "\n",
    "The dataset contains 7043 rows and 21 columns.\n",
    "\n",
    "The dataset contains information about a telecom company that has a problem with the churn rate of its customers. The company wants to know which customers are likely to churn next month. The dataset contains information about:\n",
    "\n",
    "- Customers who left within the last month – the column is called Churn\n",
    "- Services that each customer has signed up for – phone, multiple lines, internet, online security, online backup, device protection, tech support, and streaming TV and movies\n",
    "- Customer account information – how long they’ve been a customer, contract, payment method, paperless billing, monthly charges, and total charges\n",
    "- Demographic info about the customers"
   ]
  },
  {
   "cell_type": "code",
   "execution_count": 77,
   "metadata": {},
   "outputs": [
    {
     "name": "stdout",
     "output_type": "stream",
     "text": [
      "(7043, 21)\n",
      "customerID           object\n",
      "gender               object\n",
      "SeniorCitizen         int64\n",
      "Partner              object\n",
      "Dependents           object\n",
      "tenure                int64\n",
      "PhoneService         object\n",
      "MultipleLines        object\n",
      "InternetService      object\n",
      "OnlineSecurity       object\n",
      "OnlineBackup         object\n",
      "DeviceProtection     object\n",
      "TechSupport          object\n",
      "StreamingTV          object\n",
      "StreamingMovies      object\n",
      "Contract             object\n",
      "PaperlessBilling     object\n",
      "PaymentMethod        object\n",
      "MonthlyCharges      float64\n",
      "TotalCharges         object\n",
      "Churn                object\n",
      "dtype: object\n",
      "   customerID  gender  SeniorCitizen Partner Dependents  tenure PhoneService  \\\n",
      "0  7590-VHVEG  Female              0     Yes         No       1           No   \n",
      "1  5575-GNVDE    Male              0      No         No      34          Yes   \n",
      "\n",
      "      MultipleLines InternetService OnlineSecurity  ... DeviceProtection  \\\n",
      "0  No phone service             DSL             No  ...               No   \n",
      "1                No             DSL            Yes  ...              Yes   \n",
      "\n",
      "  TechSupport StreamingTV StreamingMovies        Contract PaperlessBilling  \\\n",
      "0          No          No              No  Month-to-month              Yes   \n",
      "1          No          No              No        One year               No   \n",
      "\n",
      "      PaymentMethod MonthlyCharges  TotalCharges Churn  \n",
      "0  Electronic check          29.85         29.85    No  \n",
      "1      Mailed check          56.95        1889.5    No  \n",
      "\n",
      "[2 rows x 21 columns]\n",
      "      customerID gender  SeniorCitizen Partner Dependents  tenure  \\\n",
      "7041  8361-LTMKD   Male              1     Yes         No       4   \n",
      "7042  3186-AJIEK   Male              0      No         No      66   \n",
      "\n",
      "     PhoneService MultipleLines InternetService OnlineSecurity  ...  \\\n",
      "7041          Yes           Yes     Fiber optic             No  ...   \n",
      "7042          Yes            No     Fiber optic            Yes  ...   \n",
      "\n",
      "     DeviceProtection TechSupport StreamingTV StreamingMovies        Contract  \\\n",
      "7041               No          No          No              No  Month-to-month   \n",
      "7042              Yes         Yes         Yes             Yes        Two year   \n",
      "\n",
      "     PaperlessBilling              PaymentMethod MonthlyCharges  TotalCharges  \\\n",
      "7041              Yes               Mailed check          74.40         306.6   \n",
      "7042              Yes  Bank transfer (automatic)         105.65        6844.5   \n",
      "\n",
      "     Churn  \n",
      "7041   Yes  \n",
      "7042    No  \n",
      "\n",
      "[2 rows x 21 columns]\n",
      "Index(['customerID', 'gender', 'SeniorCitizen', 'Partner', 'Dependents',\n",
      "       'tenure', 'PhoneService', 'MultipleLines', 'InternetService',\n",
      "       'OnlineSecurity', 'OnlineBackup', 'DeviceProtection', 'TechSupport',\n",
      "       'StreamingTV', 'StreamingMovies', 'Contract', 'PaperlessBilling',\n",
      "       'PaymentMethod', 'MonthlyCharges', 'TotalCharges', 'Churn'],\n",
      "      dtype='object')\n"
     ]
    }
   ],
   "source": [
    "dataset = pd.read_csv('WA_Fn-UseC_-Telco-Customer-Churn.csv')\n",
    "\n",
    "# How many rows and columns are in this dataset?\n",
    "print(dataset.shape)\n",
    "\n",
    "# Store the column of data types in a list called data_types\n",
    "data_types = dataset.dtypes\n",
    "\n",
    "# Print the data type of each column\n",
    "print(data_types)\n",
    "\n",
    "# What is the first entry in the dataset?\n",
    "print(dataset.head(2))\n",
    "\n",
    "# What is the last entry in the dataset?\n",
    "print(dataset.tail(2))\n",
    "\n",
    "# What is the name of each column?\n",
    "print(dataset.columns)"
   ]
  },
  {
   "cell_type": "markdown",
   "metadata": {},
   "source": [
    "### Converting the yes and no values to 1 and 0\n",
    "\n",
    "We first will scan for those columns that have yes and no values and convert them to 1 and 0 respectively.\n",
    "\n",
    "**Note:** This cell is dependent on the dataset and the column names. If you are using a different dataset, you will need to change the column names."
   ]
  },
  {
   "cell_type": "code",
   "execution_count": 78,
   "metadata": {},
   "outputs": [
    {
     "name": "stdout",
     "output_type": "stream",
     "text": [
      "   customerID  gender  SeniorCitizen  Partner  Dependents  tenure  \\\n",
      "0  7590-VHVEG  Female              0        1           0       1   \n",
      "1  5575-GNVDE    Male              0        0           0      34   \n",
      "2  3668-QPYBK    Male              0        0           0       2   \n",
      "3  7795-CFOCW    Male              0        0           0      45   \n",
      "4  9237-HQITU  Female              0        0           0       2   \n",
      "\n",
      "   PhoneService     MultipleLines InternetService OnlineSecurity  ...  \\\n",
      "0             0  No phone service             DSL             No  ...   \n",
      "1             1                No             DSL            Yes  ...   \n",
      "2             1                No             DSL            Yes  ...   \n",
      "3             0  No phone service             DSL            Yes  ...   \n",
      "4             1                No     Fiber optic             No  ...   \n",
      "\n",
      "  DeviceProtection TechSupport StreamingTV StreamingMovies        Contract  \\\n",
      "0               No          No          No              No  Month-to-month   \n",
      "1              Yes          No          No              No        One year   \n",
      "2               No          No          No              No  Month-to-month   \n",
      "3              Yes         Yes          No              No        One year   \n",
      "4               No          No          No              No  Month-to-month   \n",
      "\n",
      "  PaperlessBilling              PaymentMethod MonthlyCharges  TotalCharges  \\\n",
      "0                1           Electronic check          29.85         29.85   \n",
      "1                0               Mailed check          56.95        1889.5   \n",
      "2                1               Mailed check          53.85        108.15   \n",
      "3                0  Bank transfer (automatic)          42.30       1840.75   \n",
      "4                1           Electronic check          70.70        151.65   \n",
      "\n",
      "  Churn  \n",
      "0     0  \n",
      "1     0  \n",
      "2     1  \n",
      "3     0  \n",
      "4     1  \n",
      "\n",
      "[5 rows x 21 columns]\n"
     ]
    }
   ],
   "source": [
    "dataset = pd.DataFrame(dataset)\n",
    "\n",
    "# Name of the column that needs to be encoded\n",
    "column_name = ['Partner', 'Dependents', 'PhoneService', 'PaperlessBilling', 'Churn']\n",
    "\n",
    "# Create a label encoder object\n",
    "le = LabelEncoder()\n",
    "\n",
    "# Apply the label encoder object on the data\n",
    "dataset[column_name] = dataset[column_name].apply(le.fit_transform)\n",
    "\n",
    "# Print the first 5 rows of the dataset\n",
    "print(dataset.head(5))\n"
   ]
  },
  {
   "cell_type": "markdown",
   "metadata": {},
   "source": [
    "### Dividing the dataset into dependent and independent variables\n",
    "\n",
    "We will divide the dataset into dependent and independent variables. \n",
    "\n",
    "The dependent variable is the variable that we want to predict.The independent variables are the variables that we will use to predict the dependent variable. In this case, \n",
    "\n",
    "- It is the `Churn` column. \n",
    "- All the other columns except the `Churn` column and `Customer ID` column."
   ]
  },
  {
   "cell_type": "code",
   "execution_count": 79,
   "metadata": {},
   "outputs": [
    {
     "name": "stdout",
     "output_type": "stream",
     "text": [
      "21\n",
      "(7043, 19)\n",
      "(7043,)\n",
      "['Female' 0 1 0 1 0 'No phone service' 'DSL' 'No' 'Yes' 'No' 'No' 'No'\n",
      " 'No' 'Month-to-month' 1 'Electronic check' 29.85 '29.85']\n",
      "0\n"
     ]
    }
   ],
   "source": [
    "# divide the dataset into x and y\n",
    "dataset_columns_length = len(dataset.columns)\n",
    "print(dataset_columns_length)\n",
    "\n",
    "x = dataset.iloc[:, 1:(dataset_columns_length-1)].values\n",
    "y = dataset.iloc[:, (dataset_columns_length-1)].values\n",
    "\n",
    "# What is the shape of x and y?\n",
    "print(x.shape)\n",
    "print(y.shape)\n",
    "\n",
    "\n",
    "# What is the value of the 1st row of x?\n",
    "print(x[0])\n",
    "\n",
    "# What is the value of the 1st row of y?\n",
    "print(y[0])"
   ]
  },
  {
   "cell_type": "markdown",
   "metadata": {},
   "source": [
    "### Checking for missing values\n",
    "\n",
    "We will check for missing values in the dataset. If there are any missing values, we will replace them with the mean of the column."
   ]
  },
  {
   "cell_type": "code",
   "execution_count": 80,
   "metadata": {},
   "outputs": [
    {
     "name": "stdout",
     "output_type": "stream",
     "text": [
      "[]\n"
     ]
    }
   ],
   "source": [
    "dataset.isnull().sum()   # check for missing values\n",
    "\n",
    "# Store the column number of the columns with missing values in a list called missing_cols\n",
    "missing_cols = [i for i in range(dataset_columns_length) if dataset.iloc[:, i].isnull().any()]\n",
    "print(missing_cols)\n",
    "\n",
    "# Print among the columns with missing values, which columns have how many missing values\n",
    "for i in missing_cols:\n",
    "    print(i, dataset.iloc[:, i].isnull().sum())\n"
   ]
  },
  {
   "cell_type": "code",
   "execution_count": 81,
   "metadata": {},
   "outputs": [
    {
     "name": "stdout",
     "output_type": "stream",
     "text": [
      "['Female' 0 1 0 1 0 'No phone service' 'DSL' 'No' 'Yes' 'No' 'No' 'No'\n",
      " 'No' 'Month-to-month' 1 'Electronic check' 29.85 '29.85']\n"
     ]
    }
   ],
   "source": [
    "imputer = SimpleImputer(missing_values=np.nan, strategy='most_frequent')\n",
    "\n",
    "# impute missing values in the columns with missing values\n",
    "# Here the hard coded values are the column numbers of the columns with missing values \n",
    "# i.e. [outputs of the previous cell (here 18) - number of columns we discarded from the dataset (here 1)]\n",
    "x[:, 17] = imputer.fit_transform(x[:, 17].reshape(-1, 1)).ravel()\n",
    "\n",
    "print(x[0])\n"
   ]
  }
 ],
 "metadata": {
  "kernelspec": {
   "display_name": "Python 3",
   "language": "python",
   "name": "python3"
  },
  "language_info": {
   "codemirror_mode": {
    "name": "ipython",
    "version": 3
   },
   "file_extension": ".py",
   "mimetype": "text/x-python",
   "name": "python",
   "nbconvert_exporter": "python",
   "pygments_lexer": "ipython3",
   "version": "3.10.12"
  }
 },
 "nbformat": 4,
 "nbformat_minor": 2
}
