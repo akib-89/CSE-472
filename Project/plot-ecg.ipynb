{
 "cells": [
  {
   "cell_type": "markdown",
   "metadata": {},
   "source": [
    "# ECG 5000"
   ]
  },
  {
   "cell_type": "code",
   "execution_count": 26,
   "metadata": {},
   "outputs": [],
   "source": [
    "# read the test data from the txt file \n",
    "\n",
    "import pandas as pd\n",
    "import numpy as np\n",
    "\n",
    "def read_data(filename):\n",
    "    data = pd.read_csv(filename, sep=',', header=None)\n",
    "    data = data.values\n",
    "    return data\n",
    "\n",
    "def remove_leading_spaces(input_file, output_file):\n",
    "    lines = []\n",
    "    with open(input_file, 'r') as f:\n",
    "        for line in f:\n",
    "            # strip the line of leading spaces\n",
    "            line = line.lstrip()\n",
    "            # replace the more than one space with a \",\" comma\n",
    "            line = line.replace('  ', ',')\n",
    "            lines.append(line)\n",
    "        \n",
    "    with open(output_file, 'w') as f:\n",
    "        for line in lines:\n",
    "            f.write(line)\n",
    "                \n",
    "                \n",
    "                \n",
    "input_file = 'ECG5000_TRAIN.txt'\n",
    "output_file = 'ECG5000_TRAIN.csv'\n",
    "\n",
    "test_input_file = 'ECG5000_TEST.txt'\n",
    "test_output_file = 'ECG5000_TEST.csv'\n",
    "\n",
    "remove_leading_spaces(input_file, output_file)\n",
    "remove_leading_spaces(test_input_file, test_output_file)\n"
   ]
  },
  {
   "cell_type": "markdown",
   "metadata": {},
   "source": []
  },
  {
   "cell_type": "code",
   "execution_count": 28,
   "metadata": {},
   "outputs": [
    {
     "name": "stdout",
     "output_type": "stream",
     "text": [
      "(500, 141)\n",
      "(141,)\n"
     ]
    }
   ],
   "source": [
    "# read the data\n",
    "data = read_data(output_file)\n",
    "\n",
    "test_data = read_data(test_output_file)\n",
    "\n",
    "# print the shape of the data\n",
    "print(data.shape)"
   ]
  }
 ],
 "metadata": {
  "kernelspec": {
   "display_name": "Python 3",
   "language": "python",
   "name": "python3"
  },
  "language_info": {
   "codemirror_mode": {
    "name": "ipython",
    "version": 3
   },
   "file_extension": ".py",
   "mimetype": "text/x-python",
   "name": "python",
   "nbconvert_exporter": "python",
   "pygments_lexer": "ipython3",
   "version": "3.10.12"
  }
 },
 "nbformat": 4,
 "nbformat_minor": 2
}
